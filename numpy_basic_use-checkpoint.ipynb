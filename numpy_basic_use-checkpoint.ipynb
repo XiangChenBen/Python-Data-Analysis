{
 "cells": [
  {
   "cell_type": "code",
   "execution_count": 1,
   "metadata": {},
   "outputs": [
    {
     "name": "stdout",
     "output_type": "stream",
     "text": [
      "[1, 2, 3, 4]\n",
      "[1 2 3 4]\n",
      "<class 'list'>\n",
      "<class 'numpy.ndarray'>\n",
      "[1, 2]\n",
      "[1 2]\n",
      "[1, 2, 3, 4, 1, 2, 3, 4]\n",
      "[2 4 6 8]\n"
     ]
    }
   ],
   "source": [
    "import numpy as np\n",
    "\n",
    "#the difference between list and array\n",
    "a = [1,2,3,4]\n",
    "b = np.array(a)\n",
    "print(a)\n",
    "print(b)\n",
    "print(type(a))\n",
    "print(type(b))\n",
    "print(a[:2])\n",
    "print(b[:2])\n",
    "a = a*2\n",
    "b = b*2\n",
    "print(a)\n",
    "print(b)"
   ]
  },
  {
   "cell_type": "code",
   "execution_count": 2,
   "metadata": {},
   "outputs": [
    {
     "name": "stdout",
     "output_type": "stream",
     "text": [
      "[ 5  7  9 11 13 15 17 19]\n"
     ]
    }
   ],
   "source": [
    "c = np.arange(5,20,2) #类似range()的作用\n",
    "print(c)"
   ]
  },
  {
   "cell_type": "code",
   "execution_count": 3,
   "metadata": {},
   "outputs": [
    {
     "name": "stdout",
     "output_type": "stream",
     "text": [
      "[ 0.05759825 -0.14415352 -0.52598283  0.6321044   0.8229074  -1.30015091\n",
      " -1.3892915  -0.4285601   0.50661479 -1.1159513  -1.21644141  0.10425421]\n"
     ]
    }
   ],
   "source": [
    "d = np.random.randn(12) #标准正态随机选取\n",
    "print(d)"
   ]
  },
  {
   "cell_type": "code",
   "execution_count": 5,
   "metadata": {},
   "outputs": [
    {
     "name": "stdout",
     "output_type": "stream",
     "text": [
      "[[ 0.05759825 -0.14415352 -0.52598283  0.6321044 ]\n",
      " [ 0.8229074  -1.30015091 -1.3892915  -0.4285601 ]\n",
      " [ 0.50661479 -1.1159513  -1.21644141  0.10425421]]\n"
     ]
    }
   ],
   "source": [
    "d = d.reshape(3,4) #reshape可以重组成2维数组\n",
    "print(d)"
   ]
  },
  {
   "cell_type": "code",
   "execution_count": 6,
   "metadata": {},
   "outputs": [
    {
     "name": "stdout",
     "output_type": "stream",
     "text": [
      "[[2 2 4 7]\n",
      " [8 7 6 7]\n",
      " [0 1 5 4]\n",
      " [4 1 9 9]]\n"
     ]
    }
   ],
   "source": [
    "e = np.random.randint(0,10,(4,4)) #在0 和10之间随机取数生成4*4数组\n",
    "print(e)"
   ]
  },
  {
   "cell_type": "code",
   "execution_count": null,
   "metadata": {},
   "outputs": [],
   "source": []
  }
 ],
 "metadata": {
  "kernelspec": {
   "display_name": "Python 3",
   "language": "python",
   "name": "python3"
  },
  "language_info": {
   "codemirror_mode": {
    "name": "ipython",
    "version": 3
   },
   "file_extension": ".py",
   "mimetype": "text/x-python",
   "name": "python",
   "nbconvert_exporter": "python",
   "pygments_lexer": "ipython3",
   "version": "3.7.4"
  }
 },
 "nbformat": 4,
 "nbformat_minor": 2
}
