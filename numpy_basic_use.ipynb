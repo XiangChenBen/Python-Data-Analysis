{
 "cells": [
  {
   "cell_type": "code",
   "execution_count": 78,
   "metadata": {},
   "outputs": [
    {
     "name": "stdout",
     "output_type": "stream",
     "text": [
      "[[1, 2, 3, 4], [5, 6, 7, 8]]\n",
      "[[1 2 3 4]\n",
      " [5 6 7 8]]\n",
      "[[1, 2, 3, 4], [5, 6, 7, 8]]\n",
      "<class 'list'>\n",
      "<class 'numpy.ndarray'>\n",
      "[1, 2]\n",
      "[1 2]\n",
      "[[1, 2, 3, 4], [5, 6, 7, 8], [1, 2, 3, 4], [5, 6, 7, 8]]\n",
      "[[ 2  4  6  8]\n",
      " [10 12 14 16]]\n"
     ]
    }
   ],
   "source": [
    "import numpy as np\n",
    "\n",
    "\"\"\"the difference between list and array\"\"\"\n",
    "a = [[1,2,3,4],[5,6,7,8]]\n",
    "b = np.array(a) # 列表转成数组   \n",
    "c = b.tolist() #可将数组转成列表\n",
    "print(a)\n",
    "print(b)\n",
    "print(c)\n",
    "print(type(a))\n",
    "print(type(b))\n",
    "print(a[0][:2])\n",
    "print(b[0][:2])\n",
    "a = a*2\n",
    "b = b*2\n",
    "print(a)\n",
    "print(b)"
   ]
  },
  {
   "cell_type": "code",
   "execution_count": 38,
   "metadata": {},
   "outputs": [
    {
     "name": "stdout",
     "output_type": "stream",
     "text": [
      "[ 5  7  9 11 13 15 17 19]\n",
      "[ 1.35338648 -0.63630678  0.83970246  1.05402931  0.66648424 -0.24856663\n",
      "  1.42816914  0.88993731  0.90374162 -0.50039106  0.53690667 -0.79577095]\n",
      "[[8 2 4 9]\n",
      " [9 0 0 2]\n",
      " [9 1 3 4]\n",
      " [8 8 0 6]]\n"
     ]
    }
   ],
   "source": [
    "\"\"\"生成数\"\"\"\n",
    "c = np.arange(5,20,2) #类似range()的作用\n",
    "print(c)\n",
    "d = np.random.randn(12) #标准正态随机选取\n",
    "print(d)\n",
    "e = np.random.randint(0,10,(4,4)) #在0 和10之间随机取数生成4*4数组\n",
    "print(e)"
   ]
  },
  {
   "cell_type": "code",
   "execution_count": 40,
   "metadata": {},
   "outputs": [
    {
     "name": "stdout",
     "output_type": "stream",
     "text": [
      "[[1. 1.]\n",
      " [1. 1.]\n",
      " [1. 1.]]\n",
      "\n",
      "shape is (2, 3, 2)\n",
      "[[[1. 1.]\n",
      "  [1. 1.]\n",
      "  [1. 1.]]\n",
      "\n",
      " [[1. 1.]\n",
      "  [1. 1.]\n",
      "  [1. 1.]]]\n",
      "\n",
      "[[0 0]\n",
      " [0 0]\n",
      " [0 0]]\n",
      "\n",
      "[[5 5]\n",
      " [5 5]\n",
      " [5 5]]\n",
      "\n",
      "[[1. 0. 0.]\n",
      " [0. 1. 0.]\n",
      " [0. 0. 1.]]\n",
      "\n",
      "[[1 1]\n",
      " [1 1]\n",
      " [1 1]]\n"
     ]
    }
   ],
   "source": [
    "\"\"\"生成矩阵\"\"\"\n",
    "f1 = np.ones((3,2)) #全一数组，shape为元组,默认浮点\n",
    "f11 = np.ones((2,3,2))\n",
    "f0 = np.zeros((3,2),dtype = np.int32) #全零数组，shape为元组，默认浮点\n",
    "ff = np.full((3,2),5) #全value数组，shape为元组\n",
    "fn = np.eye(3) #对角为1的n*n矩阵，默认浮点\n",
    "f111 = np.ones_like(ff) #根据给定形状生成全1数组 类似的有 np.zeros_like(a),np.full_like(a,val)\n",
    "print(f1)\n",
    "print(f\"\\nshape is {f11.shape}\\n{f11}\")\n",
    "print(f\"\\n{f0}\")\n",
    "print(f\"\\n{ff}\")\n",
    "print(f\"\\n{fn}\")\n",
    "print(f\"\\n{f111}\")"
   ]
  },
  {
   "cell_type": "code",
   "execution_count": 41,
   "metadata": {},
   "outputs": [
    {
     "name": "stdout",
     "output_type": "stream",
     "text": [
      "[ 1.  4.  7. 10.]\n",
      "[1.   3.25 5.5  7.75]\n",
      "[ 1.    4.    7.   10.    1.    3.25  5.5   7.75]\n"
     ]
    }
   ],
   "source": [
    "\"\"\"数组填充和连结\"\"\"\n",
    "a = np.linspace(1,10,4) #填充数组\n",
    "b = np.linspace(1,10,4,endpoint = False)\n",
    "c = np.concatenate((a,b))\n",
    "print(a)\n",
    "print(b)\n",
    "print(c)"
   ]
  },
  {
   "cell_type": "code",
   "execution_count": 37,
   "metadata": {},
   "outputs": [
    {
     "name": "stdout",
     "output_type": "stream",
     "text": [
      "[[ 1.24460124  0.95250294 -0.25056868 -1.3661428 ]\n",
      " [ 0.69874358  3.15180372  2.02317095  0.26329356]\n",
      " [-0.57390066  0.27493992 -1.35127451 -0.08433258]]\n",
      "[ 1.24460124  0.95250294 -0.25056868 -1.3661428   0.69874358  3.15180372\n",
      "  2.02317095  0.26329356 -0.57390066  0.27493992 -1.35127451 -0.08433258]\n",
      "[[ 1.24460124  0.95250294 -0.25056868 -1.3661428 ]\n",
      " [ 0.69874358  3.15180372  2.02317095  0.26329356]\n",
      " [-0.57390066  0.27493992 -1.35127451 -0.08433258]]\n",
      "[ 1.24460124  0.95250294 -0.25056868 -1.3661428   0.69874358  3.15180372\n",
      "  2.02317095  0.26329356 -0.57390066  0.27493992 -1.35127451 -0.08433258]\n"
     ]
    }
   ],
   "source": [
    "\"\"\"改变形状\"\"\"\n",
    "d = np.random.randn(12)\n",
    "d.reshape(3,4) #可以重组,但不改变原数组\n",
    "print(d.reshape(3,4))\n",
    "print(d)\n",
    "d.resize(3,4) #可以重组,且改变原数组\n",
    "print(d)\n",
    "d = d.flatten() #降维打击，但不改变原数组\n",
    "print(d)"
   ]
  },
  {
   "cell_type": "code",
   "execution_count": 55,
   "metadata": {},
   "outputs": [
    {
     "name": "stdout",
     "output_type": "stream",
     "text": [
      "[[1 1 1]\n",
      " [1 1 1]\n",
      " [1 1 1]]\n",
      "[[1. 1. 1.]\n",
      " [1. 1. 1.]\n",
      " [1. 1. 1.]]\n",
      "[[1 1 1]\n",
      " [1 1 1]\n",
      " [1 1 1]]\n"
     ]
    }
   ],
   "source": [
    "a = np.ones((3,3),dtype = np.int) #np.int 叫整数类系统会根据数据自定义int32 或 int64\n",
    "print(a)\n",
    "b = a.astype(np.float) #复制a的数组并重新定义类型给b，a不变\n",
    "print(b)\n",
    "print(a)"
   ]
  },
  {
   "cell_type": "code",
   "execution_count": 64,
   "metadata": {},
   "outputs": [
    {
     "name": "stdout",
     "output_type": "stream",
     "text": [
      "[[[ 0  1  2  3]\n",
      "  [ 4  5  6  7]\n",
      "  [ 8  9 10 11]]\n",
      "\n",
      " [[12 13 14 15]\n",
      "  [16 17 18 19]\n",
      "  [20 21 22 23]]]\n",
      "23\n",
      "17\n",
      "[ 5 17]\n",
      "[[[ 4  5  6  7]\n",
      "  [ 8  9 10 11]]\n",
      "\n",
      " [[16 17 18 19]\n",
      "  [20 21 22 23]]]\n",
      "[[[ 0  2]\n",
      "  [ 4  6]\n",
      "  [ 8 10]]\n",
      "\n",
      " [[12 14]\n",
      "  [16 18]\n",
      "  [20 22]]]\n"
     ]
    }
   ],
   "source": [
    "\"\"\"索引和切片\"\"\"\n",
    "a = np.arange(24).reshape((2,3,4))\n",
    "print(a)\n",
    "print(a[1,2,3]) #每个维度一个索引值，逗号分隔\n",
    "print(a[-1,-2,-3])\n",
    "print(a[:,1,-3]) #切片数组\n",
    "print(a[:,1:3,:]) #一个维度一对中括号\n",
    "print(a[:,:,::2]) #加上步长，跳跃式切片"
   ]
  },
  {
   "cell_type": "code",
   "execution_count": 71,
   "metadata": {},
   "outputs": [
    {
     "name": "stdout",
     "output_type": "stream",
     "text": [
      "11.5\n"
     ]
    }
   ],
   "source": [
    "\"\"\"数组运算\"\"\"\n",
    "a = np.arange(24).reshape(2,3,4)\n",
    "print(a.mean())"
   ]
  },
  {
   "cell_type": "code",
   "execution_count": 72,
   "metadata": {},
   "outputs": [
    {
     "name": "stdout",
     "output_type": "stream",
     "text": [
      "[[[0.         1.         1.41421356 1.73205081]\n",
      "  [2.         2.23606798 2.44948974 2.64575131]\n",
      "  [2.82842712 3.         3.16227766 3.31662479]]\n",
      "\n",
      " [[3.46410162 3.60555128 3.74165739 3.87298335]\n",
      "  [4.         4.12310563 4.24264069 4.35889894]\n",
      "  [4.47213595 4.58257569 4.69041576 4.79583152]]]\n",
      "[[[0.         1.         1.41421356 1.73205081]\n",
      "  [2.         2.23606798 2.44948974 2.64575131]\n",
      "  [2.82842712 3.         3.16227766 3.31662479]]\n",
      "\n",
      " [[3.46410162 3.60555128 3.74165739 3.87298335]\n",
      "  [4.         4.12310563 4.24264069 4.35889894]\n",
      "  [4.47213595 4.58257569 4.69041576 4.79583152]]]\n"
     ]
    }
   ],
   "source": [
    "\"\"\"例举一元函数\"\"\"\n",
    "a = np.sqrt(a)\n",
    "print(a)\n",
    "b = np.modf(a) #分离整数和小数\n",
    "print(a)"
   ]
  },
  {
   "cell_type": "code",
   "execution_count": 76,
   "metadata": {},
   "outputs": [
    {
     "name": "stdout",
     "output_type": "stream",
     "text": [
      "[[[ 0  1  2  3]\n",
      "  [ 4  5  6  7]\n",
      "  [ 8  9 10 11]]\n",
      "\n",
      " [[12 13 14 15]\n",
      "  [16 17 18 19]\n",
      "  [20 21 22 23]]]\n",
      "[[[0.         1.         1.41421356 1.73205081]\n",
      "  [2.         2.23606798 2.44948974 2.64575131]\n",
      "  [2.82842712 3.         3.16227766 3.31662479]]\n",
      "\n",
      " [[3.46410162 3.60555128 3.74165739 3.87298335]\n",
      "  [4.         4.12310563 4.24264069 4.35889894]\n",
      "  [4.47213595 4.58257569 4.69041576 4.79583152]]]\n",
      "[[[ 0.  1.  2.  3.]\n",
      "  [ 4.  5.  6.  7.]\n",
      "  [ 8.  9. 10. 11.]]\n",
      "\n",
      " [[12. 13. 14. 15.]\n",
      "  [16. 17. 18. 19.]\n",
      "  [20. 21. 22. 23.]]]\n",
      "[[[False False  True  True]\n",
      "  [ True  True  True  True]\n",
      "  [ True  True  True  True]]\n",
      "\n",
      " [[ True  True  True  True]\n",
      "  [ True  True  True  True]\n",
      "  [ True  True  True  True]]]\n"
     ]
    }
   ],
   "source": [
    "\"\"\"例举二元函数\"\"\"\n",
    "a = np.arange(24).reshape(2,3,4)\n",
    "b = np.sqrt(a)\n",
    "print(a)\n",
    "print(b)\n",
    "c = np.maximum(a,b) #不仅取最大值，只要两个数据类型不同，就会进行取浮点\n",
    "print(c)\n",
    "d = a>b  #dtype = bool\n",
    "print(d)"
   ]
  },
  {
   "cell_type": "code",
   "execution_count": null,
   "metadata": {},
   "outputs": [],
   "source": []
  }
 ],
 "metadata": {
  "kernelspec": {
   "display_name": "Python 3",
   "language": "python",
   "name": "python3"
  },
  "language_info": {
   "codemirror_mode": {
    "name": "ipython",
    "version": 3
   },
   "file_extension": ".py",
   "mimetype": "text/x-python",
   "name": "python",
   "nbconvert_exporter": "python",
   "pygments_lexer": "ipython3",
   "version": "3.7.4"
  }
 },
 "nbformat": 4,
 "nbformat_minor": 2
}
